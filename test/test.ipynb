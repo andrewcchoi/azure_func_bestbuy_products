{
 "cells": [
  {
   "cell_type": "code",
   "execution_count": null,
   "id": "432df882",
   "metadata": {},
   "outputs": [],
   "source": [
    "import aiohttp\n",
    "import asyncio\n",
    "import os\n",
    "\n",
    "from tenacity import retry, stop_after_attempt\n",
    "from time import perf_counter"
   ]
  },
  {
   "cell_type": "code",
   "execution_count": 99,
   "id": "8d9f8577",
   "metadata": {},
   "outputs": [],
   "source": [
    "@retry(stop=stop_after_attempt(1))\n",
    "async def fetch_products(url: str):\n",
    "    start = perf_counter()\n",
    "    path=url.split(\"v1\")[1]\n",
    "    print(f'{start}:\\t{path}')\n",
    "\n",
    "    params = {\n",
    "        'apiKey': os.environ.get('API_KEY_BESTBUY'),\n",
    "        'pageSize': 10,\n",
    "        'page': 1, \n",
    "        'format': 'json',\n",
    "        'show': 'all',\n",
    "        'sort': 'salePrice.asc'\n",
    "    }\n",
    "\n",
    "    async with aiohttp.ClientSession() as session:\n",
    "        async with session.get(url, params=params) as response:\n",
    "            data = await response.json()\n",
    "            print(f'{path}... took {perf_counter() - start:.2f}s')\n",
    "            return data"
   ]
  },
  {
   "cell_type": "code",
   "execution_count": 100,
   "id": "beecb177",
   "metadata": {},
   "outputs": [
    {
     "name": "stdout",
     "output_type": "stream",
     "text": [
      "2857743.306845:\t/products(productTemplate in(Televisions)&screenSizeClassIn>39&salePrice<999)\n",
      "2857743.3074585:\t/products(categoryPath.name=laptop*&onSale=true&details.value=nvidia)\n",
      "/products(productTemplate in(Televisions)&screenSizeClassIn>39&salePrice<999)... took 0.69s\n",
      "/products(categoryPath.name=laptop*&onSale=true&details.value=nvidia)... took 0.86s\n",
      "Found 280 total products\n"
     ]
    }
   ],
   "source": [
    "urls = [\n",
    "    \"https://api.bestbuy.com/v1/products(productTemplate in(Televisions)&screenSizeClassIn>39&salePrice<999)\",\n",
    "    \"https://api.bestbuy.com/v1/products(categoryPath.name=laptop*&onSale=true&details.value=nvidia)\"\n",
    "]\n",
    "\n",
    "results = await asyncio.gather(*[fetch_products(url) for url in urls])\n",
    "print(f'Found {sum(r[\"total\"] for r in results)} total products')"
   ]
  },
  {
   "cell_type": "code",
   "execution_count": null,
   "id": "8040db75",
   "metadata": {},
   "outputs": [],
   "source": []
  }
 ],
 "metadata": {
  "kernelspec": {
   "display_name": ".dev",
   "language": "python",
   "name": "python3"
  },
  "language_info": {
   "codemirror_mode": {
    "name": "ipython",
    "version": 3
   },
   "file_extension": ".py",
   "mimetype": "text/x-python",
   "name": "python",
   "nbconvert_exporter": "python",
   "pygments_lexer": "ipython3",
   "version": "3.11.5"
  }
 },
 "nbformat": 4,
 "nbformat_minor": 5
}
